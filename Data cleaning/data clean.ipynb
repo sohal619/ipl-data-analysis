{
 "cells": [
  {
   "cell_type": "code",
   "execution_count": 1,
   "id": "9e412469",
   "metadata": {},
   "outputs": [],
   "source": [
    "import numpy as np\n",
    "import pandas as pd\n",
    "import os"
   ]
  },
  {
   "cell_type": "code",
   "execution_count": 27,
   "id": "fbde715d",
   "metadata": {},
   "outputs": [],
   "source": [
    "for i in range(2008, 2023):\n",
    "    files_name = os.listdir(f'..\\\\data\\\\match data {i}')\n",
    "    for x in files_name:\n",
    "        df = pd.read_csv(f'..\\\\data\\\\match data {i}\\\\{x}')\n",
    "        \n",
    "        # ---------------- data cleaning & saving ---------------- #\n",
    "        df['date'] = df['data1'].str.split(',', expand=True)[0]\n",
    "        df['year'] = df['data1'].str.split(',', expand=True)[1]\n",
    "        df['match'] = df['data1'].str.split(',', expand=True)[2]\n",
    "        df['team'] = df['data1'].str.split(',', expand=True)[3].str.split('vs', expand=True)[0]\n",
    "        df['oppnent_team'] = df['data1'].str.split(',', expand=True)[3].str.split('vs', expand=True)[1]\n",
    "        df.drop('data1', axis=1, inplace=True)\n",
    "        df['winning_team'] = df['data2'].str.split('won by', expand=True)[0]\n",
    "        df['won_by'] = df['data2'].str.split('won by', expand=True)[1].str.split('(', expand=True)[0]\n",
    "        df.drop('data2', axis=1, inplace=True)\n",
    "        df = df[['match', 'team', 'oppnent_team', 'date', 'year', 'winning_team', 'won_by', 'scorecard']]\n",
    "        df.to_csv(f'..\\\\data\\\\match data {i}\\\\{x}', index=False)"
   ]
  }
 ],
 "metadata": {
  "kernelspec": {
   "display_name": "Python 3 (ipykernel)",
   "language": "python",
   "name": "python3"
  },
  "language_info": {
   "codemirror_mode": {
    "name": "ipython",
    "version": 3
   },
   "file_extension": ".py",
   "mimetype": "text/x-python",
   "name": "python",
   "nbconvert_exporter": "python",
   "pygments_lexer": "ipython3",
   "version": "3.9.13"
  }
 },
 "nbformat": 4,
 "nbformat_minor": 5
}
